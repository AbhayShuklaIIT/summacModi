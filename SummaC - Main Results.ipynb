{
 "cells": [
  {
   "cell_type": "code",
   "execution_count": 1,
   "source": [
    "import sys\n",
    "sys.path.insert(0, \"/home/phillab/summac/\")\n",
    "from utils_summac_benchmark import SummaCBenchmark\n",
    "import utils_summac_benchmark\n",
    "\n",
    "benchmark = SummaCBenchmark(cut=\"test\")\n",
    "\n",
    "benchmark.print_stats()"
   ],
   "outputs": [
    {
     "output_type": "stream",
     "name": "stderr",
     "text": [
      "Using custom data configuration default\n",
      "Reusing dataset xsum (/home/phillab/.cache/huggingface/datasets/xsum/default/1.2.0/4957825a982999fbf80bca0b342793b01b2611e021ef589fb7c6250b3577b499)\n",
      "Reusing dataset cnn_dailymail (/home/phillab/.cache/huggingface/datasets/cnn_dailymail/3.0.0/3.0.0/3cb851bf7cf5826e45d49db2863f627cba583cbc32342df7349dfe6c38060234)\n"
     ]
    },
    {
     "output_type": "stream",
     "name": "stdout",
     "text": [
      "        name     N  N_pos  N_neg  frac_pos\n",
      "0  cogensumm   400    312     88  0.780000\n",
      "1  xsumfaith  1250    130   1120  0.104000\n",
      "2   polytope   634     41    593  0.064669\n",
      "3     factcc   503    441     62  0.876740\n",
      "4   summeval   850    770     80  0.905882\n",
      "5      frank  1575    529   1046  0.335873\n"
     ]
    }
   ],
   "metadata": {}
  },
  {
   "cell_type": "markdown",
   "source": [
    "# Table 2: Main Table of Results\n"
   ],
   "metadata": {}
  },
  {
   "cell_type": "code",
   "execution_count": 5,
   "source": [
    "import sklearn, torch, numpy as np, json, os, tqdm, pandas as pd, nltk, utils_misc, seaborn as sns\n",
    "from model_guardrails import NERInaccuracyPenalty\n",
    "from model_summac import SummaCHisto, SummaCZS\n",
    "from model_baseline import BaselineScorer\n",
    "from model_entailment import EntailmentScorer\n",
    "from model_classifier import Classifier\n",
    "from utils_scoring import ScorerWrapper\n",
    "\n",
    "use_cache = True\n",
    "scorers = [\n",
    "#     {\"name\": \"NER\", \"model\": NERInaccuracyPenalty(flipped=True), \"sign\": 1},\n",
    "#     {\"name\": \"MNLI\", \"model\": EntailmentScorer(model_card=\"roberta-large-mnli\", contradiction_idx=0), \"sign\": 1},\n",
    "    # {\"name\": \"FactCC-CLS\", \"model\": Classifier(model_card=\"roberta-base\", score_class=1, model_file=\"/home/phillab/models/cls_roberta-base_factcc_first_0_f1_0.4766.bin\"), \"sign\": 1, \"only_doc\": True},\n",
    "    {\"name\": \"DAE\", \"model\": BaselineScorer(model=\"dae\"), \"only_doc\": True, \"sign\": 1},\n",
    "    {\"name\": \"FEQA\", \"model\": BaselineScorer(model=\"feqa\"), \"only_doc\": True, \"sign\": 1},\n",
    "    {\"name\": \"QuestEval\", \"model\": BaselineScorer(model=\"questeval\"), \"only_doc\": True, \"sign\": 1},\n",
    "    {\"name\": \"SummaC-ZS-VITC-L\", \"model\": SummaCZS(granularity=\"sentence\", model_name=\"vitc\", imager_load_cache=use_cache), \"sign\": 1, \"only_doc\": True},\n",
    "    {\"name\": \"SummaC-Histo-VITC-L\", \"model\": SummaCHisto(models=[\"vitc\"], granularity=\"sentence\", start_file=\"/home/phillab/models/summac/vitc_sentence_percentile_e_bacc0.751.bin\", bins=\"percentile\", imager_load_cache=use_cache), \"sign\": 1, \"only_doc\": True},\n",
    "#     {\"name\": \"SummaC-Histo-Multi-L\", \"model\": SummaCHisto(models=[\"mnli\", \"anli\", \"vitc\"], granularity=\"sentence\", start_file=\"/home/phillab/models/summac/no_con_histo_multi_sentence_percentile_bacc0.774.bin\", bins=\"percentile\", imager_load_cache=use_cache, use_con=False), \"sign\": 1, \"only_doc\": True},\n",
    "]\n",
    "\n",
    "scorer_doc = ScorerWrapper(scorers, scoring_method=\"sum\", max_batch_size=20, use_caching=True)\n",
    "scorer_para = ScorerWrapper([s for s in scorers if \"only_doc\" not in s], scoring_method=\"sum\", max_batch_size=20, use_caching=True)"
   ],
   "outputs": [
    {
     "output_type": "stream",
     "name": "stdout",
     "text": [
      "<All keys matched successfully>\n"
     ]
    }
   ],
   "metadata": {}
  },
  {
   "cell_type": "code",
   "execution_count": 6,
   "source": [
    "results = []\n",
    "for dataset in benchmark.tasks:\n",
    "    print(\"======= %s ========\" % (dataset[\"name\"]))\n",
    "    datas = dataset[\"task\"]\n",
    "    utils_summac_benchmark.compute_doc_level(scorer_doc, datas)\n",
    "    utils_summac_benchmark.compute_paragraph_level(scorer_para, datas)\n",
    "    \n",
    "    labels = [d[\"label\"] for d in datas]\n",
    "    pred_labels = [k for k in datas[0].keys() if \"pred_\" in k]\n",
    "    for pred_label in pred_labels:\n",
    "        model_name, input_type = pred_label.replace(\"pred_\", \"\").split(\"|\")\n",
    "        balanced_acc = sklearn.metrics.balanced_accuracy_score(labels, [d[pred_label] for d in datas])\n",
    "        roc_auc = sklearn.metrics.roc_auc_score(labels, [d[pred_label.replace(\"pred_\", \"\")] for d in datas])\n",
    "        results.append({\"model_name\": model_name, \"dataset_name\": dataset[\"name\"], \"input\": input_type, \"%s_bacc\" % (dataset[\"name\"]): balanced_acc, \"%s_roc_auc\" % (dataset[\"name\"]): roc_auc})"
   ],
   "outputs": [
    {
     "output_type": "stream",
     "name": "stderr",
     "text": [
      "100%|██████████| 400/400 [00:00<00:00, 3229.47it/s]"
     ]
    },
    {
     "output_type": "stream",
     "name": "stdout",
     "text": [
      "======= cogensumm ========\n"
     ]
    },
    {
     "output_type": "stream",
     "name": "stderr",
     "text": [
      "\n",
      "100%|██████████| 11100/11100 [00:00<00:00, 1539016.05it/s]\n",
      " 46%|████▋     | 580/1250 [00:00<00:00, 5619.17it/s]"
     ]
    },
    {
     "output_type": "stream",
     "name": "stdout",
     "text": [
      "======= xsumfaith ========\n"
     ]
    },
    {
     "output_type": "stream",
     "name": "stderr",
     "text": [
      "100%|██████████| 1250/1250 [00:00<00:00, 5583.27it/s]\n",
      "100%|██████████| 24117/24117 [00:00<00:00, 1356534.03it/s]\n",
      "100%|██████████| 634/634 [00:00<00:00, 4579.27it/s]\n"
     ]
    },
    {
     "output_type": "stream",
     "name": "stdout",
     "text": [
      "======= polytope ========\n"
     ]
    },
    {
     "output_type": "stream",
     "name": "stderr",
     "text": [
      "100%|██████████| 14348/14348 [00:00<00:00, 1299781.29it/s]\n",
      "100%|██████████| 503/503 [00:00<00:00, 5521.23it/s]\n"
     ]
    },
    {
     "output_type": "stream",
     "name": "stdout",
     "text": [
      "======= factcc ========\n"
     ]
    },
    {
     "output_type": "stream",
     "name": "stderr",
     "text": [
      "100%|██████████| 10154/10154 [00:00<00:00, 1392069.13it/s]\n",
      " 49%|████▉     | 420/850 [00:00<00:00, 4188.94it/s]"
     ]
    },
    {
     "output_type": "stream",
     "name": "stdout",
     "text": [
      "======= summeval ========\n"
     ]
    },
    {
     "output_type": "stream",
     "name": "stderr",
     "text": [
      "100%|██████████| 850/850 [00:00<00:00, 4218.98it/s]\n",
      "100%|██████████| 850/850 [00:00<00:00, 894420.07it/s]\n",
      " 37%|███▋      | 580/1575 [00:00<00:00, 5789.76it/s]"
     ]
    },
    {
     "output_type": "stream",
     "name": "stdout",
     "text": [
      "======= frank ========\n"
     ]
    },
    {
     "output_type": "stream",
     "name": "stderr",
     "text": [
      "100%|██████████| 1575/1575 [00:00<00:00, 4483.06it/s]\n",
      "100%|██████████| 1575/1575 [00:00<00:00, 1042124.75it/s]\n"
     ]
    }
   ],
   "metadata": {
    "scrolled": false
   }
  },
  {
   "cell_type": "code",
   "execution_count": 7,
   "source": [
    "# If needed for caching\n",
    "for scorer in scorers:\n",
    "    if \"SummaC\" in scorer[\"name\"]:\n",
    "        scorer[\"model\"].save_imager_cache()"
   ],
   "outputs": [],
   "metadata": {}
  },
  {
   "cell_type": "code",
   "execution_count": 8,
   "source": [
    "cm = sns.light_palette(\"green\", as_cmap=True)\n",
    "\n",
    "def highlight_max(data):\n",
    "    is_max = data == data.max()\n",
    "    return ['font-weight: bold' if v else '' for v in is_max]\n",
    "\n",
    "df = pd.DataFrame(results)\n",
    "df = df.groupby([\"model_name\", \"input\"]).agg({\"%s_bacc\" % (d): \"mean\" for d in benchmark.task_name_to_task})\n",
    "df.rename(columns={k: k.replace(\"_bacc\", \"\") for k in df.keys()}, inplace=True)\n",
    "df.drop(\"total\",inplace=True)\n",
    "df[\"overall\"] = (df[\"factcc\"]+df[\"frank\"]+df[\"polytope\"]+df[\"cogensumm\"]+df[\"summeval\"]+df[\"xsumfaith\"]) / (6.0)\n",
    "\n",
    "df.style.apply(highlight_max).background_gradient(cmap=cm, high=1.0, low=0.0).set_precision(3).set_caption(\"Balanced Accuracy\")"
   ],
   "outputs": [
    {
     "output_type": "execute_result",
     "data": {
      "text/html": [
       "<style  type=\"text/css\" >\n",
       "    #T_f520b306_2a2c_11ec_bdd8_3730c640f6f6row0_col0 {\n",
       "            : ;\n",
       "            background-color:  #cce4cc;\n",
       "            color:  #000000;\n",
       "        }    #T_f520b306_2a2c_11ec_bdd8_3730c640f6f6row0_col1 {\n",
       "            : ;\n",
       "            background-color:  #ebf3eb;\n",
       "            color:  #000000;\n",
       "        }    #T_f520b306_2a2c_11ec_bdd8_3730c640f6f6row0_col2 {\n",
       "            : ;\n",
       "            background-color:  #bcdcbc;\n",
       "            color:  #000000;\n",
       "        }    #T_f520b306_2a2c_11ec_bdd8_3730c640f6f6row0_col3 {\n",
       "            : ;\n",
       "            background-color:  #a3d0a3;\n",
       "            color:  #000000;\n",
       "        }    #T_f520b306_2a2c_11ec_bdd8_3730c640f6f6row0_col4 {\n",
       "            : ;\n",
       "            background-color:  #a6d1a6;\n",
       "            color:  #000000;\n",
       "        }    #T_f520b306_2a2c_11ec_bdd8_3730c640f6f6row0_col5 {\n",
       "            : ;\n",
       "            background-color:  #ebf3eb;\n",
       "            color:  #000000;\n",
       "        }    #T_f520b306_2a2c_11ec_bdd8_3730c640f6f6row0_col6 {\n",
       "            : ;\n",
       "            background-color:  #c1dfc1;\n",
       "            color:  #000000;\n",
       "        }    #T_f520b306_2a2c_11ec_bdd8_3730c640f6f6row1_col0 {\n",
       "            : ;\n",
       "            background-color:  #ebf3eb;\n",
       "            color:  #000000;\n",
       "        }    #T_f520b306_2a2c_11ec_bdd8_3730c640f6f6row1_col1 {\n",
       "            : ;\n",
       "            background-color:  #c0dec0;\n",
       "            color:  #000000;\n",
       "        }    #T_f520b306_2a2c_11ec_bdd8_3730c640f6f6row1_col2 {\n",
       "            : ;\n",
       "            background-color:  #ebf3eb;\n",
       "            color:  #000000;\n",
       "        }    #T_f520b306_2a2c_11ec_bdd8_3730c640f6f6row1_col3 {\n",
       "            : ;\n",
       "            background-color:  #ebf3eb;\n",
       "            color:  #000000;\n",
       "        }    #T_f520b306_2a2c_11ec_bdd8_3730c640f6f6row1_col4 {\n",
       "            : ;\n",
       "            background-color:  #ebf3eb;\n",
       "            color:  #000000;\n",
       "        }    #T_f520b306_2a2c_11ec_bdd8_3730c640f6f6row1_col5 {\n",
       "            : ;\n",
       "            background-color:  #bcdcbc;\n",
       "            color:  #000000;\n",
       "        }    #T_f520b306_2a2c_11ec_bdd8_3730c640f6f6row1_col6 {\n",
       "            : ;\n",
       "            background-color:  #ebf3eb;\n",
       "            color:  #000000;\n",
       "        }    #T_f520b306_2a2c_11ec_bdd8_3730c640f6f6row2_col0 {\n",
       "            : ;\n",
       "            background-color:  #d7e9d7;\n",
       "            color:  #000000;\n",
       "        }    #T_f520b306_2a2c_11ec_bdd8_3730c640f6f6row2_col1 {\n",
       "            : ;\n",
       "            background-color:  #8fc68f;\n",
       "            color:  #000000;\n",
       "        }    #T_f520b306_2a2c_11ec_bdd8_3730c640f6f6row2_col2 {\n",
       "            font-weight:  bold;\n",
       "            background-color:  #75b975;\n",
       "            color:  #000000;\n",
       "        }    #T_f520b306_2a2c_11ec_bdd8_3730c640f6f6row2_col3 {\n",
       "            : ;\n",
       "            background-color:  #c0dec0;\n",
       "            color:  #000000;\n",
       "        }    #T_f520b306_2a2c_11ec_bdd8_3730c640f6f6row2_col4 {\n",
       "            : ;\n",
       "            background-color:  #9ccd9c;\n",
       "            color:  #000000;\n",
       "        }    #T_f520b306_2a2c_11ec_bdd8_3730c640f6f6row2_col5 {\n",
       "            font-weight:  bold;\n",
       "            background-color:  #75b975;\n",
       "            color:  #000000;\n",
       "        }    #T_f520b306_2a2c_11ec_bdd8_3730c640f6f6row2_col6 {\n",
       "            : ;\n",
       "            background-color:  #99cb99;\n",
       "            color:  #000000;\n",
       "        }    #T_f520b306_2a2c_11ec_bdd8_3730c640f6f6row3_col0 {\n",
       "            : ;\n",
       "            background-color:  #d8ead8;\n",
       "            color:  #000000;\n",
       "        }    #T_f520b306_2a2c_11ec_bdd8_3730c640f6f6row3_col1 {\n",
       "            font-weight:  bold;\n",
       "            background-color:  #75b975;\n",
       "            color:  #000000;\n",
       "        }    #T_f520b306_2a2c_11ec_bdd8_3730c640f6f6row3_col2 {\n",
       "            : ;\n",
       "            background-color:  #bcdcbc;\n",
       "            color:  #000000;\n",
       "        }    #T_f520b306_2a2c_11ec_bdd8_3730c640f6f6row3_col3 {\n",
       "            font-weight:  bold;\n",
       "            background-color:  #76ba76;\n",
       "            color:  #000000;\n",
       "        }    #T_f520b306_2a2c_11ec_bdd8_3730c640f6f6row3_col4 {\n",
       "            font-weight:  bold;\n",
       "            background-color:  #75b975;\n",
       "            color:  #000000;\n",
       "        }    #T_f520b306_2a2c_11ec_bdd8_3730c640f6f6row3_col5 {\n",
       "            : ;\n",
       "            background-color:  #78bb78;\n",
       "            color:  #000000;\n",
       "        }    #T_f520b306_2a2c_11ec_bdd8_3730c640f6f6row3_col6 {\n",
       "            font-weight:  bold;\n",
       "            background-color:  #75b975;\n",
       "            color:  #000000;\n",
       "        }    #T_f520b306_2a2c_11ec_bdd8_3730c640f6f6row4_col0 {\n",
       "            font-weight:  bold;\n",
       "            background-color:  #75b975;\n",
       "            color:  #000000;\n",
       "        }    #T_f520b306_2a2c_11ec_bdd8_3730c640f6f6row4_col1 {\n",
       "            : ;\n",
       "            background-color:  #add5ad;\n",
       "            color:  #000000;\n",
       "        }    #T_f520b306_2a2c_11ec_bdd8_3730c640f6f6row4_col2 {\n",
       "            : ;\n",
       "            background-color:  #c3e0c3;\n",
       "            color:  #000000;\n",
       "        }    #T_f520b306_2a2c_11ec_bdd8_3730c640f6f6row4_col3 {\n",
       "            : ;\n",
       "            background-color:  #89c389;\n",
       "            color:  #000000;\n",
       "        }    #T_f520b306_2a2c_11ec_bdd8_3730c640f6f6row4_col4 {\n",
       "            : ;\n",
       "            background-color:  #83c083;\n",
       "            color:  #000000;\n",
       "        }    #T_f520b306_2a2c_11ec_bdd8_3730c640f6f6row4_col5 {\n",
       "            : ;\n",
       "            background-color:  #87c287;\n",
       "            color:  #000000;\n",
       "        }    #T_f520b306_2a2c_11ec_bdd8_3730c640f6f6row4_col6 {\n",
       "            : ;\n",
       "            background-color:  #84c084;\n",
       "            color:  #000000;\n",
       "        }</style><table id=\"T_f520b306_2a2c_11ec_bdd8_3730c640f6f6\" ><caption>Balanced Accuracy</caption><thead>    <tr>        <th class=\"blank\" ></th>        <th class=\"blank level0\" ></th>        <th class=\"col_heading level0 col0\" >cogensumm</th>        <th class=\"col_heading level0 col1\" >xsumfaith</th>        <th class=\"col_heading level0 col2\" >polytope</th>        <th class=\"col_heading level0 col3\" >factcc</th>        <th class=\"col_heading level0 col4\" >summeval</th>        <th class=\"col_heading level0 col5\" >frank</th>        <th class=\"col_heading level0 col6\" >overall</th>    </tr>    <tr>        <th class=\"index_name level0\" >model_name</th>        <th class=\"index_name level1\" >input</th>        <th class=\"blank\" ></th>        <th class=\"blank\" ></th>        <th class=\"blank\" ></th>        <th class=\"blank\" ></th>        <th class=\"blank\" ></th>        <th class=\"blank\" ></th>        <th class=\"blank\" ></th>    </tr></thead><tbody>\n",
       "                <tr>\n",
       "                        <th id=\"T_f520b306_2a2c_11ec_bdd8_3730c640f6f6level0_row0\" class=\"row_heading level0 row0\" >DAE</th>\n",
       "                        <th id=\"T_f520b306_2a2c_11ec_bdd8_3730c640f6f6level1_row0\" class=\"row_heading level1 row0\" >doc</th>\n",
       "                        <td id=\"T_f520b306_2a2c_11ec_bdd8_3730c640f6f6row0_col0\" class=\"data row0 col0\" >0.634</td>\n",
       "                        <td id=\"T_f520b306_2a2c_11ec_bdd8_3730c640f6f6row0_col1\" class=\"data row0 col1\" >0.508</td>\n",
       "                        <td id=\"T_f520b306_2a2c_11ec_bdd8_3730c640f6f6row0_col2\" class=\"data row0 col2\" >0.628</td>\n",
       "                        <td id=\"T_f520b306_2a2c_11ec_bdd8_3730c640f6f6row0_col3\" class=\"data row0 col3\" >0.759</td>\n",
       "                        <td id=\"T_f520b306_2a2c_11ec_bdd8_3730c640f6f6row0_col4\" class=\"data row0 col4\" >0.703</td>\n",
       "                        <td id=\"T_f520b306_2a2c_11ec_bdd8_3730c640f6f6row0_col5\" class=\"data row0 col5\" >0.617</td>\n",
       "                        <td id=\"T_f520b306_2a2c_11ec_bdd8_3730c640f6f6row0_col6\" class=\"data row0 col6\" >0.642</td>\n",
       "            </tr>\n",
       "            <tr>\n",
       "                        <th id=\"T_f520b306_2a2c_11ec_bdd8_3730c640f6f6level0_row1\" class=\"row_heading level0 row1\" >FEQA</th>\n",
       "                        <th id=\"T_f520b306_2a2c_11ec_bdd8_3730c640f6f6level1_row1\" class=\"row_heading level1 row1\" >doc</th>\n",
       "                        <td id=\"T_f520b306_2a2c_11ec_bdd8_3730c640f6f6row1_col0\" class=\"data row1 col0\" >0.61</td>\n",
       "                        <td id=\"T_f520b306_2a2c_11ec_bdd8_3730c640f6f6row1_col1\" class=\"data row1 col1\" >0.56</td>\n",
       "                        <td id=\"T_f520b306_2a2c_11ec_bdd8_3730c640f6f6row1_col2\" class=\"data row1 col2\" >0.578</td>\n",
       "                        <td id=\"T_f520b306_2a2c_11ec_bdd8_3730c640f6f6row1_col3\" class=\"data row1 col3\" >0.536</td>\n",
       "                        <td id=\"T_f520b306_2a2c_11ec_bdd8_3730c640f6f6row1_col4\" class=\"data row1 col4\" >0.538</td>\n",
       "                        <td id=\"T_f520b306_2a2c_11ec_bdd8_3730c640f6f6row1_col5\" class=\"data row1 col5\" >0.699</td>\n",
       "                        <td id=\"T_f520b306_2a2c_11ec_bdd8_3730c640f6f6row1_col6\" class=\"data row1 col6\" >0.587</td>\n",
       "            </tr>\n",
       "            <tr>\n",
       "                        <th id=\"T_f520b306_2a2c_11ec_bdd8_3730c640f6f6level0_row2\" class=\"row_heading level0 row2\" >QuestEval</th>\n",
       "                        <th id=\"T_f520b306_2a2c_11ec_bdd8_3730c640f6f6level1_row2\" class=\"row_heading level1 row2\" >doc</th>\n",
       "                        <td id=\"T_f520b306_2a2c_11ec_bdd8_3730c640f6f6row2_col0\" class=\"data row2 col0\" >0.626</td>\n",
       "                        <td id=\"T_f520b306_2a2c_11ec_bdd8_3730c640f6f6row2_col1\" class=\"data row2 col1\" >0.621</td>\n",
       "                        <td id=\"T_f520b306_2a2c_11ec_bdd8_3730c640f6f6row2_col2\" class=\"data row2 col2\" >0.703</td>\n",
       "                        <td id=\"T_f520b306_2a2c_11ec_bdd8_3730c640f6f6row2_col3\" class=\"data row2 col3\" >0.666</td>\n",
       "                        <td id=\"T_f520b306_2a2c_11ec_bdd8_3730c640f6f6row2_col4\" class=\"data row2 col4\" >0.725</td>\n",
       "                        <td id=\"T_f520b306_2a2c_11ec_bdd8_3730c640f6f6row2_col5\" class=\"data row2 col5\" >0.821</td>\n",
       "                        <td id=\"T_f520b306_2a2c_11ec_bdd8_3730c640f6f6row2_col6\" class=\"data row2 col6\" >0.694</td>\n",
       "            </tr>\n",
       "            <tr>\n",
       "                        <th id=\"T_f520b306_2a2c_11ec_bdd8_3730c640f6f6level0_row3\" class=\"row_heading level0 row3\" >SummaC-Histo-VITC-L</th>\n",
       "                        <th id=\"T_f520b306_2a2c_11ec_bdd8_3730c640f6f6level1_row3\" class=\"row_heading level1 row3\" >doc</th>\n",
       "                        <td id=\"T_f520b306_2a2c_11ec_bdd8_3730c640f6f6row3_col0\" class=\"data row3 col0\" >0.625</td>\n",
       "                        <td id=\"T_f520b306_2a2c_11ec_bdd8_3730c640f6f6row3_col1\" class=\"data row3 col1\" >0.652</td>\n",
       "                        <td id=\"T_f520b306_2a2c_11ec_bdd8_3730c640f6f6row3_col2\" class=\"data row3 col2\" >0.628</td>\n",
       "                        <td id=\"T_f520b306_2a2c_11ec_bdd8_3730c640f6f6row3_col3\" class=\"data row3 col3\" >0.899</td>\n",
       "                        <td id=\"T_f520b306_2a2c_11ec_bdd8_3730c640f6f6row3_col4\" class=\"data row3 col4\" >0.818</td>\n",
       "                        <td id=\"T_f520b306_2a2c_11ec_bdd8_3730c640f6f6row3_col5\" class=\"data row3 col5\" >0.817</td>\n",
       "                        <td id=\"T_f520b306_2a2c_11ec_bdd8_3730c640f6f6row3_col6\" class=\"data row3 col6\" >0.74</td>\n",
       "            </tr>\n",
       "            <tr>\n",
       "                        <th id=\"T_f520b306_2a2c_11ec_bdd8_3730c640f6f6level0_row4\" class=\"row_heading level0 row4\" >SummaC-ZS-VITC-L</th>\n",
       "                        <th id=\"T_f520b306_2a2c_11ec_bdd8_3730c640f6f6level1_row4\" class=\"row_heading level1 row4\" >doc</th>\n",
       "                        <td id=\"T_f520b306_2a2c_11ec_bdd8_3730c640f6f6row4_col0\" class=\"data row4 col0\" >0.704</td>\n",
       "                        <td id=\"T_f520b306_2a2c_11ec_bdd8_3730c640f6f6row4_col1\" class=\"data row4 col1\" >0.584</td>\n",
       "                        <td id=\"T_f520b306_2a2c_11ec_bdd8_3730c640f6f6row4_col2\" class=\"data row4 col2\" >0.62</td>\n",
       "                        <td id=\"T_f520b306_2a2c_11ec_bdd8_3730c640f6f6row4_col3\" class=\"data row4 col3\" >0.838</td>\n",
       "                        <td id=\"T_f520b306_2a2c_11ec_bdd8_3730c640f6f6row4_col4\" class=\"data row4 col4\" >0.787</td>\n",
       "                        <td id=\"T_f520b306_2a2c_11ec_bdd8_3730c640f6f6row4_col5\" class=\"data row4 col5\" >0.79</td>\n",
       "                        <td id=\"T_f520b306_2a2c_11ec_bdd8_3730c640f6f6row4_col6\" class=\"data row4 col6\" >0.721</td>\n",
       "            </tr>\n",
       "    </tbody></table>"
      ],
      "text/plain": [
       "<pandas.io.formats.style.Styler at 0x7fc407c96950>"
      ]
     },
     "metadata": {},
     "execution_count": 8
    }
   ],
   "metadata": {
    "scrolled": false
   }
  },
  {
   "cell_type": "code",
   "execution_count": 9,
   "source": [
    "df = pd.DataFrame(results)\n",
    "df = df.groupby([\"model_name\", \"input\"]).agg({\"%s_roc_auc\" % (d): \"mean\" for d in benchmark.task_name_to_task})\n",
    "df.rename(columns={k: k.replace(\"_roc_auc\", \"\") for k in df.keys()}, inplace=True)\n",
    "df.drop(\"total\",inplace=True)\n",
    "df[\"overall\"] = (df[\"factcc\"]+df[\"frank\"]+df[\"polytope\"]+df[\"cogensumm\"]+df[\"summeval\"]+df[\"xsumfaith\"]) / (6.0)\n",
    "\n",
    "df.style.apply(highlight_max).background_gradient(cmap=cm, high=1.0, low=0.0).set_precision(3).set_caption(\"ROC AUC\")"
   ],
   "outputs": [
    {
     "output_type": "execute_result",
     "data": {
      "text/html": [
       "<style  type=\"text/css\" >\n",
       "    #T_f9692d4e_2a2c_11ec_bdd8_3730c640f6f6row0_col0 {\n",
       "            : ;\n",
       "            background-color:  #a7d2a7;\n",
       "            color:  #000000;\n",
       "        }    #T_f9692d4e_2a2c_11ec_bdd8_3730c640f6f6row0_col1 {\n",
       "            : ;\n",
       "            background-color:  #ebf3eb;\n",
       "            color:  #000000;\n",
       "        }    #T_f9692d4e_2a2c_11ec_bdd8_3730c640f6f6row0_col2 {\n",
       "            : ;\n",
       "            background-color:  #abd4ab;\n",
       "            color:  #000000;\n",
       "        }    #T_f9692d4e_2a2c_11ec_bdd8_3730c640f6f6row0_col3 {\n",
       "            : ;\n",
       "            background-color:  #92c892;\n",
       "            color:  #000000;\n",
       "        }    #T_f9692d4e_2a2c_11ec_bdd8_3730c640f6f6row0_col4 {\n",
       "            : ;\n",
       "            background-color:  #93c893;\n",
       "            color:  #000000;\n",
       "        }    #T_f9692d4e_2a2c_11ec_bdd8_3730c640f6f6row0_col5 {\n",
       "            : ;\n",
       "            background-color:  #ebf3eb;\n",
       "            color:  #000000;\n",
       "        }    #T_f9692d4e_2a2c_11ec_bdd8_3730c640f6f6row0_col6 {\n",
       "            : ;\n",
       "            background-color:  #b7dab7;\n",
       "            color:  #000000;\n",
       "        }    #T_f9692d4e_2a2c_11ec_bdd8_3730c640f6f6row1_col0 {\n",
       "            : ;\n",
       "            background-color:  #ebf3eb;\n",
       "            color:  #000000;\n",
       "        }    #T_f9692d4e_2a2c_11ec_bdd8_3730c640f6f6row1_col1 {\n",
       "            : ;\n",
       "            background-color:  #b2d7b2;\n",
       "            color:  #000000;\n",
       "        }    #T_f9692d4e_2a2c_11ec_bdd8_3730c640f6f6row1_col2 {\n",
       "            : ;\n",
       "            background-color:  #ebf3eb;\n",
       "            color:  #000000;\n",
       "        }    #T_f9692d4e_2a2c_11ec_bdd8_3730c640f6f6row1_col3 {\n",
       "            : ;\n",
       "            background-color:  #ebf3eb;\n",
       "            color:  #000000;\n",
       "        }    #T_f9692d4e_2a2c_11ec_bdd8_3730c640f6f6row1_col4 {\n",
       "            : ;\n",
       "            background-color:  #ebf3eb;\n",
       "            color:  #000000;\n",
       "        }    #T_f9692d4e_2a2c_11ec_bdd8_3730c640f6f6row1_col5 {\n",
       "            : ;\n",
       "            background-color:  #b9dbb9;\n",
       "            color:  #000000;\n",
       "        }    #T_f9692d4e_2a2c_11ec_bdd8_3730c640f6f6row1_col6 {\n",
       "            : ;\n",
       "            background-color:  #ebf3eb;\n",
       "            color:  #000000;\n",
       "        }    #T_f9692d4e_2a2c_11ec_bdd8_3730c640f6f6row2_col0 {\n",
       "            : ;\n",
       "            background-color:  #c8e2c8;\n",
       "            color:  #000000;\n",
       "        }    #T_f9692d4e_2a2c_11ec_bdd8_3730c640f6f6row2_col1 {\n",
       "            font-weight:  bold;\n",
       "            background-color:  #76ba76;\n",
       "            color:  #000000;\n",
       "        }    #T_f9692d4e_2a2c_11ec_bdd8_3730c640f6f6row2_col2 {\n",
       "            font-weight:  bold;\n",
       "            background-color:  #75b975;\n",
       "            color:  #000000;\n",
       "        }    #T_f9692d4e_2a2c_11ec_bdd8_3730c640f6f6row2_col3 {\n",
       "            : ;\n",
       "            background-color:  #b2d7b1;\n",
       "            color:  #000000;\n",
       "        }    #T_f9692d4e_2a2c_11ec_bdd8_3730c640f6f6row2_col4 {\n",
       "            : ;\n",
       "            background-color:  #8ec58e;\n",
       "            color:  #000000;\n",
       "        }    #T_f9692d4e_2a2c_11ec_bdd8_3730c640f6f6row2_col5 {\n",
       "            : ;\n",
       "            background-color:  #79bc79;\n",
       "            color:  #000000;\n",
       "        }    #T_f9692d4e_2a2c_11ec_bdd8_3730c640f6f6row2_col6 {\n",
       "            : ;\n",
       "            background-color:  #8bc48b;\n",
       "            color:  #000000;\n",
       "        }    #T_f9692d4e_2a2c_11ec_bdd8_3730c640f6f6row3_col0 {\n",
       "            : ;\n",
       "            background-color:  #b0d6b0;\n",
       "            color:  #000000;\n",
       "        }    #T_f9692d4e_2a2c_11ec_bdd8_3730c640f6f6row3_col1 {\n",
       "            : ;\n",
       "            background-color:  #79bc79;\n",
       "            color:  #000000;\n",
       "        }    #T_f9692d4e_2a2c_11ec_bdd8_3730c640f6f6row3_col2 {\n",
       "            : ;\n",
       "            background-color:  #b6d9b6;\n",
       "            color:  #000000;\n",
       "        }    #T_f9692d4e_2a2c_11ec_bdd8_3730c640f6f6row3_col3 {\n",
       "            font-weight:  bold;\n",
       "            background-color:  #75b975;\n",
       "            color:  #000000;\n",
       "        }    #T_f9692d4e_2a2c_11ec_bdd8_3730c640f6f6row3_col4 {\n",
       "            font-weight:  bold;\n",
       "            background-color:  #75b975;\n",
       "            color:  #000000;\n",
       "        }    #T_f9692d4e_2a2c_11ec_bdd8_3730c640f6f6row3_col5 {\n",
       "            font-weight:  bold;\n",
       "            background-color:  #76ba76;\n",
       "            color:  #000000;\n",
       "        }    #T_f9692d4e_2a2c_11ec_bdd8_3730c640f6f6row3_col6 {\n",
       "            font-weight:  bold;\n",
       "            background-color:  #75b975;\n",
       "            color:  #000000;\n",
       "        }    #T_f9692d4e_2a2c_11ec_bdd8_3730c640f6f6row4_col0 {\n",
       "            font-weight:  bold;\n",
       "            background-color:  #75b975;\n",
       "            color:  #000000;\n",
       "        }    #T_f9692d4e_2a2c_11ec_bdd8_3730c640f6f6row4_col1 {\n",
       "            : ;\n",
       "            background-color:  #9ccd9c;\n",
       "            color:  #000000;\n",
       "        }    #T_f9692d4e_2a2c_11ec_bdd8_3730c640f6f6row4_col2 {\n",
       "            : ;\n",
       "            background-color:  #c5e0c5;\n",
       "            color:  #000000;\n",
       "        }    #T_f9692d4e_2a2c_11ec_bdd8_3730c640f6f6row4_col3 {\n",
       "            : ;\n",
       "            background-color:  #8fc68f;\n",
       "            color:  #000000;\n",
       "        }    #T_f9692d4e_2a2c_11ec_bdd8_3730c640f6f6row4_col4 {\n",
       "            : ;\n",
       "            background-color:  #78bb78;\n",
       "            color:  #000000;\n",
       "        }    #T_f9692d4e_2a2c_11ec_bdd8_3730c640f6f6row4_col5 {\n",
       "            : ;\n",
       "            background-color:  #86c286;\n",
       "            color:  #000000;\n",
       "        }    #T_f9692d4e_2a2c_11ec_bdd8_3730c640f6f6row4_col6 {\n",
       "            : ;\n",
       "            background-color:  #86c286;\n",
       "            color:  #000000;\n",
       "        }</style><table id=\"T_f9692d4e_2a2c_11ec_bdd8_3730c640f6f6\" ><caption>ROC AUC</caption><thead>    <tr>        <th class=\"blank\" ></th>        <th class=\"blank level0\" ></th>        <th class=\"col_heading level0 col0\" >cogensumm</th>        <th class=\"col_heading level0 col1\" >xsumfaith</th>        <th class=\"col_heading level0 col2\" >polytope</th>        <th class=\"col_heading level0 col3\" >factcc</th>        <th class=\"col_heading level0 col4\" >summeval</th>        <th class=\"col_heading level0 col5\" >frank</th>        <th class=\"col_heading level0 col6\" >overall</th>    </tr>    <tr>        <th class=\"index_name level0\" >model_name</th>        <th class=\"index_name level1\" >input</th>        <th class=\"blank\" ></th>        <th class=\"blank\" ></th>        <th class=\"blank\" ></th>        <th class=\"blank\" ></th>        <th class=\"blank\" ></th>        <th class=\"blank\" ></th>        <th class=\"blank\" ></th>    </tr></thead><tbody>\n",
       "                <tr>\n",
       "                        <th id=\"T_f9692d4e_2a2c_11ec_bdd8_3730c640f6f6level0_row0\" class=\"row_heading level0 row0\" >DAE</th>\n",
       "                        <th id=\"T_f9692d4e_2a2c_11ec_bdd8_3730c640f6f6level1_row0\" class=\"row_heading level1 row0\" >doc</th>\n",
       "                        <td id=\"T_f9692d4e_2a2c_11ec_bdd8_3730c640f6f6row0_col0\" class=\"data row0 col0\" >0.678</td>\n",
       "                        <td id=\"T_f9692d4e_2a2c_11ec_bdd8_3730c640f6f6row0_col1\" class=\"data row0 col1\" >0.413</td>\n",
       "                        <td id=\"T_f9692d4e_2a2c_11ec_bdd8_3730c640f6f6row0_col2\" class=\"data row0 col2\" >0.641</td>\n",
       "                        <td id=\"T_f9692d4e_2a2c_11ec_bdd8_3730c640f6f6row0_col3\" class=\"data row0 col3\" >0.827</td>\n",
       "                        <td id=\"T_f9692d4e_2a2c_11ec_bdd8_3730c640f6f6row0_col4\" class=\"data row0 col4\" >0.774</td>\n",
       "                        <td id=\"T_f9692d4e_2a2c_11ec_bdd8_3730c640f6f6row0_col5\" class=\"data row0 col5\" >0.643</td>\n",
       "                        <td id=\"T_f9692d4e_2a2c_11ec_bdd8_3730c640f6f6row0_col6\" class=\"data row0 col6\" >0.663</td>\n",
       "            </tr>\n",
       "            <tr>\n",
       "                        <th id=\"T_f9692d4e_2a2c_11ec_bdd8_3730c640f6f6level0_row1\" class=\"row_heading level0 row1\" >FEQA</th>\n",
       "                        <th id=\"T_f9692d4e_2a2c_11ec_bdd8_3730c640f6f6level1_row1\" class=\"row_heading level1 row1\" >doc</th>\n",
       "                        <td id=\"T_f9692d4e_2a2c_11ec_bdd8_3730c640f6f6row1_col0\" class=\"data row1 col0\" >0.608</td>\n",
       "                        <td id=\"T_f9692d4e_2a2c_11ec_bdd8_3730c640f6f6row1_col1\" class=\"data row1 col1\" >0.534</td>\n",
       "                        <td id=\"T_f9692d4e_2a2c_11ec_bdd8_3730c640f6f6row1_col2\" class=\"data row1 col2\" >0.546</td>\n",
       "                        <td id=\"T_f9692d4e_2a2c_11ec_bdd8_3730c640f6f6row1_col3\" class=\"data row1 col3\" >0.507</td>\n",
       "                        <td id=\"T_f9692d4e_2a2c_11ec_bdd8_3730c640f6f6row1_col4\" class=\"data row1 col4\" >0.522</td>\n",
       "                        <td id=\"T_f9692d4e_2a2c_11ec_bdd8_3730c640f6f6row1_col5\" class=\"data row1 col5\" >0.748</td>\n",
       "                        <td id=\"T_f9692d4e_2a2c_11ec_bdd8_3730c640f6f6row1_col6\" class=\"data row1 col6\" >0.577</td>\n",
       "            </tr>\n",
       "            <tr>\n",
       "                        <th id=\"T_f9692d4e_2a2c_11ec_bdd8_3730c640f6f6level0_row2\" class=\"row_heading level0 row2\" >QuestEval</th>\n",
       "                        <th id=\"T_f9692d4e_2a2c_11ec_bdd8_3730c640f6f6level1_row2\" class=\"row_heading level1 row2\" >doc</th>\n",
       "                        <td id=\"T_f9692d4e_2a2c_11ec_bdd8_3730c640f6f6row2_col0\" class=\"data row2 col0\" >0.644</td>\n",
       "                        <td id=\"T_f9692d4e_2a2c_11ec_bdd8_3730c640f6f6row2_col1\" class=\"data row2 col1\" >0.664</td>\n",
       "                        <td id=\"T_f9692d4e_2a2c_11ec_bdd8_3730c640f6f6row2_col2\" class=\"data row2 col2\" >0.722</td>\n",
       "                        <td id=\"T_f9692d4e_2a2c_11ec_bdd8_3730c640f6f6row2_col3\" class=\"data row2 col3\" >0.715</td>\n",
       "                        <td id=\"T_f9692d4e_2a2c_11ec_bdd8_3730c640f6f6row2_col4\" class=\"data row2 col4\" >0.79</td>\n",
       "                        <td id=\"T_f9692d4e_2a2c_11ec_bdd8_3730c640f6f6row2_col5\" class=\"data row2 col5\" >0.879</td>\n",
       "                        <td id=\"T_f9692d4e_2a2c_11ec_bdd8_3730c640f6f6row2_col6\" class=\"data row2 col6\" >0.736</td>\n",
       "            </tr>\n",
       "            <tr>\n",
       "                        <th id=\"T_f9692d4e_2a2c_11ec_bdd8_3730c640f6f6level0_row3\" class=\"row_heading level0 row3\" >SummaC-Histo-VITC-L</th>\n",
       "                        <th id=\"T_f9692d4e_2a2c_11ec_bdd8_3730c640f6f6level1_row3\" class=\"row_heading level1 row3\" >doc</th>\n",
       "                        <td id=\"T_f9692d4e_2a2c_11ec_bdd8_3730c640f6f6row3_col0\" class=\"data row3 col0\" >0.669</td>\n",
       "                        <td id=\"T_f9692d4e_2a2c_11ec_bdd8_3730c640f6f6row3_col1\" class=\"data row3 col1\" >0.656</td>\n",
       "                        <td id=\"T_f9692d4e_2a2c_11ec_bdd8_3730c640f6f6row3_col2\" class=\"data row3 col2\" >0.626</td>\n",
       "                        <td id=\"T_f9692d4e_2a2c_11ec_bdd8_3730c640f6f6row3_col3\" class=\"data row3 col3\" >0.93</td>\n",
       "                        <td id=\"T_f9692d4e_2a2c_11ec_bdd8_3730c640f6f6row3_col4\" class=\"data row3 col4\" >0.861</td>\n",
       "                        <td id=\"T_f9692d4e_2a2c_11ec_bdd8_3730c640f6f6row3_col5\" class=\"data row3 col5\" >0.887</td>\n",
       "                        <td id=\"T_f9692d4e_2a2c_11ec_bdd8_3730c640f6f6row3_col6\" class=\"data row3 col6\" >0.772</td>\n",
       "            </tr>\n",
       "            <tr>\n",
       "                        <th id=\"T_f9692d4e_2a2c_11ec_bdd8_3730c640f6f6level0_row4\" class=\"row_heading level0 row4\" >SummaC-ZS-VITC-L</th>\n",
       "                        <th id=\"T_f9692d4e_2a2c_11ec_bdd8_3730c640f6f6level1_row4\" class=\"row_heading level1 row4\" >doc</th>\n",
       "                        <td id=\"T_f9692d4e_2a2c_11ec_bdd8_3730c640f6f6row4_col0\" class=\"data row4 col0\" >0.731</td>\n",
       "                        <td id=\"T_f9692d4e_2a2c_11ec_bdd8_3730c640f6f6row4_col1\" class=\"data row4 col1\" >0.58</td>\n",
       "                        <td id=\"T_f9692d4e_2a2c_11ec_bdd8_3730c640f6f6row4_col2\" class=\"data row4 col2\" >0.603</td>\n",
       "                        <td id=\"T_f9692d4e_2a2c_11ec_bdd8_3730c640f6f6row4_col3\" class=\"data row4 col3\" >0.837</td>\n",
       "                        <td id=\"T_f9692d4e_2a2c_11ec_bdd8_3730c640f6f6row4_col4\" class=\"data row4 col4\" >0.855</td>\n",
       "                        <td id=\"T_f9692d4e_2a2c_11ec_bdd8_3730c640f6f6row4_col5\" class=\"data row4 col5\" >0.853</td>\n",
       "                        <td id=\"T_f9692d4e_2a2c_11ec_bdd8_3730c640f6f6row4_col6\" class=\"data row4 col6\" >0.743</td>\n",
       "            </tr>\n",
       "    </tbody></table>"
      ],
      "text/plain": [
       "<pandas.io.formats.style.Styler at 0x7fc3b69ebc90>"
      ]
     },
     "metadata": {},
     "execution_count": 9
    }
   ],
   "metadata": {}
  },
  {
   "cell_type": "markdown",
   "source": [
    "# Inter-Annotator Agreements"
   ],
   "metadata": {
    "heading_collapsed": true
   }
  },
  {
   "cell_type": "code",
   "execution_count": 3,
   "source": [
    "import statsmodels, numpy as np\n",
    "\n",
    "from statsmodels.stats.inter_rater import fleiss_kappa"
   ],
   "outputs": [],
   "metadata": {
    "hidden": true
   }
  },
  {
   "cell_type": "code",
   "execution_count": 30,
   "source": [
    "from collections import Counter\n",
    "\n",
    "def vectorize(annotations):\n",
    "    return [annotations.count(0), annotations.count(1)]\n",
    "\n",
    "def build_fleiss_matrix(all_annotations):\n",
    "    annot_counts = Counter([len(annots) for annots in all_annotations])\n",
    "    num_annots = annot_counts.most_common(1)[0][0]\n",
    "    filtered_annotations = [d[:num_annots] for d in all_annotations if len(d) >= num_annots]\n",
    "    return np.array([vectorize(d) for d in filtered_annotations])\n",
    "\n",
    "for task in benchmark.tasks:\n",
    "    print(\"================== %s ====================\" % (task[\"name\"].upper()))\n",
    "    \n",
    "    if len(task[\"task\"][0][\"annotations\"]) == 1:\n",
    "        print(\"Analysis is skipped (only 1 annotation)\")\n",
    "        continue\n",
    "    \n",
    "    all_annotations = [d[\"annotations\"] for d in task[\"task\"]]\n",
    "    fleiss_matrix = build_fleiss_matrix(all_annotations)\n",
    "    print(\"Fleiss Kappa Agreement: %.3f\" % (fleiss_kappa(fleiss_matrix)))\n",
    "    \n",
    "    "
   ],
   "outputs": [
    {
     "output_type": "stream",
     "name": "stdout",
     "text": [
      "================== FACTCC ====================\n",
      "Analysis is skipped (only 1 annotation)\n",
      "================== FRANK ====================\n",
      "Fleiss Kappa Agreement: 0.530\n",
      "================== POLYTOPE ====================\n",
      "Analysis is skipped (only 1 annotation)\n",
      "================== COGENSUMM ====================\n",
      "Analysis is skipped (only 1 annotation)\n",
      "================== SUMMEVAL ====================\n",
      "Fleiss Kappa Agreement: 0.700\n",
      "================== XSUMFAITH ====================\n",
      "Fleiss Kappa Agreement: 0.796\n"
     ]
    }
   ],
   "metadata": {
    "hidden": true
   }
  }
 ],
 "metadata": {
  "finalized": {
   "timestamp": 1625710190289,
   "trusted": true
  },
  "kernelspec": {
   "name": "python3",
   "display_name": "Python 3.7.6 64-bit ('base': conda)"
  },
  "language_info": {
   "codemirror_mode": {
    "name": "ipython",
    "version": 3
   },
   "file_extension": ".py",
   "mimetype": "text/x-python",
   "name": "python",
   "nbconvert_exporter": "python",
   "pygments_lexer": "ipython3",
   "version": "3.7.6"
  },
  "interpreter": {
   "hash": "c723e9d1a9662a11de23e7914e75631adbad784f516bc181f2c98a6790ee4bb2"
  }
 },
 "nbformat": 4,
 "nbformat_minor": 4
}